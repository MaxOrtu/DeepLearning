{
 "cells": [
  {
   "cell_type": "code",
   "execution_count": 203,
   "metadata": {},
   "outputs": [],
   "source": [
    "import numpy as np\n",
    "from sklearn.metrics.pairwise import cosine_similarity"
   ]
  },
  {
   "cell_type": "markdown",
   "metadata": {},
   "source": [
    "# NOVELTY ALGORITHM\n",
    "\n",
    "A way to reward diversity among a polulation.\n",
    "\n",
    "the population genome is based on the matrix (10, 748).. this is coming from the MNIST challenge where we have 10 nodes with 748 input size\n",
    "\n",
    "The idea is to add the new element to the population only if its diversity is greater that 0.8 (0 - 1)\n",
    "\n",
    "I use the notion of Eigenvector and Eigenvalues... I select the eigenvector that has the greates eigenvalue (the one that gives the most). I choose the eigenvector because it gives the direction.\n",
    "\n",
    "Eigenvectors do not exist for non squared matrix, so the trick is to create a covariance of the matrix. In a way the covariance represent the relation among the elements.\n",
    "\n",
    "I then calculate the eigenvectors/values of the covariance matrix and compare to the population list"
   ]
  },
  {
   "cell_type": "code",
   "execution_count": 223,
   "metadata": {},
   "outputs": [],
   "source": [
    "species_genomes = []\n",
    "diversity_threshold = 0.7"
   ]
  },
  {
   "cell_type": "code",
   "execution_count": 224,
   "metadata": {},
   "outputs": [
    {
     "name": "stdout",
     "output_type": "stream",
     "text": [
      "novel species: 9\n"
     ]
    }
   ],
   "source": [
    "\n",
    "for i in range(200):\n",
    "    #initialize a random matrix with random values between [0,1] with 10 rows and 748 columns\n",
    "    a = np.random.random((10,748))\n",
    "    #retrieve the eigenvalues, eigenvectors of the covariant\n",
    "    v_a, h_a = np.linalg.eig(np.cov(a))\n",
    "    #select the most influential eignevector\n",
    "    eigen = h_a[v_a.argmax()]\n",
    "    if len(species_genomes) == 0:\n",
    "        species_genomes.append(eigen)\n",
    "    else:\n",
    "        #calculate the difference\n",
    "        distance = cosine_similarity([eigen], species_genomes)\n",
    "        #if the distance is <=0 it means the vector is not going towards the same direction (either perpendicular or opposed)\n",
    "        if np.mean(distance <= 0) > diversity_threshold:\n",
    "            species_genomes.append(eigen)\n",
    "                \n",
    "\n",
    "print (f\"novel species: {len(species_genomes)}\")     "
   ]
  },
  {
   "cell_type": "code",
   "execution_count": 225,
   "metadata": {},
   "outputs": [],
   "source": [
    "#initialize a new matrix\n",
    "n = np.random.random((10,748))"
   ]
  },
  {
   "cell_type": "code",
   "execution_count": 226,
   "metadata": {},
   "outputs": [
    {
     "name": "stdout",
     "output_type": "stream",
     "text": [
      "novel species: 10, added: 1\n"
     ]
    }
   ],
   "source": [
    "#this loop is the same as above, but the difference is that the original vector is modified by small amounts, \n",
    "#it should give less diversity\n",
    "l_species =  (len(species_genomes))\n",
    "for i in range(200):\n",
    "    \n",
    "    v_a, h_a = np.linalg.eig(np.cov(n))\n",
    "    eigen = h_a[v_a.argmax()]\n",
    "    if len(species_genomes) == 0:\n",
    "        species_genomes.append(eigen)\n",
    "    else:\n",
    "        distance = cosine_similarity([eigen], species_genomes)\n",
    "        if np.mean(distance <= 0) > diversity_threshold:\n",
    "            species_genomes.append(eigen)\n",
    "    n = np.random.uniform(-0.1, 0.1, (10,748))\n",
    "    \n",
    "print (f\"novel species: {len(species_genomes)}, added: {len(species_genomes) - l_species}\")"
   ]
  },
  {
   "cell_type": "code",
   "execution_count": null,
   "metadata": {},
   "outputs": [],
   "source": []
  }
 ],
 "metadata": {
  "kernelspec": {
   "display_name": "Python 3",
   "language": "python",
   "name": "python3"
  },
  "language_info": {
   "codemirror_mode": {
    "name": "ipython",
    "version": 3
   },
   "file_extension": ".py",
   "mimetype": "text/x-python",
   "name": "python",
   "nbconvert_exporter": "python",
   "pygments_lexer": "ipython3",
   "version": "3.7.5"
  }
 },
 "nbformat": 4,
 "nbformat_minor": 2
}
